{
  "nbformat": 4,
  "nbformat_minor": 0,
  "metadata": {
    "colab": {
      "provenance": []
    },
    "kernelspec": {
      "name": "python3",
      "display_name": "Python 3"
    },
    "language_info": {
      "name": "python"
    }
  },
  "cells": [
    {
      "cell_type": "markdown",
      "source": [
        "Explanation:\n",
        "\n",
        "Data Loading and Preprocessing:\n",
        "\n",
        "Load the Customers.csv, Products.csv, and Transactions.csv files into Pandas DataFrames.\n",
        "Join the transactions with customer and product information to create a comprehensive DataFrame.\n",
        "Create a pivot table to represent customer-product interactions, where rows represent customers and columns represent products, and the values represent the quantity of each product purchased by each customer.\n",
        "Feature Scaling:\n",
        "\n",
        "Scale the customer-product matrix using MinMaxScaler to ensure all features have the same scale, which is crucial for cosine similarity calculations.\n",
        "Cosine Similarity Calculation:\n",
        "\n",
        "Calculate the cosine similarity between customers based on their purchase history using sklearn.metrics.pairwise.cosine_similarity. Cosine similarity measures the cosine of the angle between two vectors, representing the similarity between customer purchase patterns.\n",
        "Finding Lookalike Customers:\n",
        "\n",
        "Define a function find_lookalikes to find the top N lookalike customers for a given customer ID.\n",
        "Sort the similarity scores in descending order and select the top N lookalikes (excluding the customer itself).\n",
        "Generating Lookalike Recommendations:\n",
        "\n",
        "Iterate through the first 20 customers in the Customers.csv file.\n",
        "For each customer, find their top 3 lookalikes using the find_lookalikes function.\n",
        "Store the lookalike customer IDs and their similarity scores in a dictionary.\n",
        "Saving Results to CSV:\n",
        "\n",
        "Convert the dictionary of lookalikes into a Pandas DataFrame.\n",
        "Save the DataFrame to a CSV file named \"Lookalike.csv\".\n"
      ],
      "metadata": {
        "id": "3IjYTN29UsQ1"
      }
    },
    {
      "cell_type": "code",
      "execution_count": 1,
      "metadata": {
        "id": "vyI4WOKkNC2O"
      },
      "outputs": [],
      "source": [
        "import pandas as pd\n",
        "import numpy as np\n",
        "import seaborn as sns\n",
        "import matplotlib.pyplot as plt"
      ]
    },
    {
      "cell_type": "markdown",
      "source": [
        "Load the Datasets: First, we load the Customers.csv, Products.csv, and Transactions.csv files."
      ],
      "metadata": {
        "id": "eqUfNxxiNm_1"
      }
    },
    {
      "cell_type": "code",
      "source": [
        "\n",
        "customers_df = pd.read_csv('Customers.csv')\n",
        "products_df = pd.read_csv('Products.csv')\n",
        "transactions_df = pd.read_csv('Transactions.csv')\n"
      ],
      "metadata": {
        "id": "3T07gyo1NX93"
      },
      "execution_count": 2,
      "outputs": []
    },
    {
      "cell_type": "markdown",
      "source": [
        "Merge the Data: We need to combine customer and transaction data to get insights into the transaction history for each customer."
      ],
      "metadata": {
        "id": "UKtnaEUlNuw-"
      }
    },
    {
      "cell_type": "code",
      "source": [
        "# 1. Data Preprocessing\n",
        "# Join transactions with customer and product information\n",
        "df = transactions_df.merge(customers_df, on='CustomerID')\n",
        "df = df.merge(products_df, on='ProductID')\n",
        "\n",
        "# Create a pivot table to represent customer-product interactions\n",
        "customer_product_matrix = pd.pivot_table(df, index='CustomerID', columns='ProductID', values='Quantity', fill_value=0)\n"
      ],
      "metadata": {
        "id": "4X2gD5AENh1o"
      },
      "execution_count": 22,
      "outputs": []
    },
    {
      "cell_type": "markdown",
      "source": [
        "Feature Engineering: Create features based on customer profiles and transaction histories.\n",
        "\n",
        "Customer Profile: Region, Signup Date, and CustomerID.\n",
        "\n",
        "Transaction History: Number of transactions, total amount spent, product categories purchased, etc."
      ],
      "metadata": {
        "id": "-bOkrt3VNzi-"
      }
    },
    {
      "cell_type": "code",
      "source": [
        "\n",
        "# 2. Feature Scaling\n",
        "# Scale the customer-product matrix to a range of 0-1\n",
        "scaler = MinMaxScaler()\n",
        "scaled_matrix = scaler.fit_transform(customer_product_matrix)"
      ],
      "metadata": {
        "id": "D10reIyIN4Dw"
      },
      "execution_count": 23,
      "outputs": []
    },
    {
      "cell_type": "markdown",
      "source": [
        "To find similar customers, we use Cosine Similarity to measure the similarity between customers' profiles and transaction histories."
      ],
      "metadata": {
        "id": "P-LgGlkeTaEX"
      }
    },
    {
      "cell_type": "code",
      "source": [
        "cosine_sim = cosine_similarity(scaled_matrix)\n"
      ],
      "metadata": {
        "id": "tC2QA0NZP6Mk"
      },
      "execution_count": 24,
      "outputs": []
    },
    {
      "cell_type": "code",
      "source": [
        "def find_lookalikes(customer_id, cosine_sim, top_n=3):\n",
        "    \"\"\"\n",
        "    Finds the top N lookalike customers based on cosine similarity.\n",
        "\n",
        "    Args:\n",
        "        customer_id: The ID of the customer to find lookalikes for.\n",
        "        cosine_sim: The cosine similarity matrix.\n",
        "        top_n: The number of lookalike customers to return.\n",
        "\n",
        "    Returns:\n",
        "        A list of tuples, where each tuple contains the lookalike customer ID and their similarity score.\n",
        "    \"\"\"\n",
        "    idx = customer_product_matrix.index.get_loc(customer_id)\n",
        "    sim_scores = list(enumerate(cosine_sim[idx]))\n",
        "    sim_scores = sorted(sim_scores, key=lambda x: x[1], reverse=True)\n",
        "    lookalikes = sim_scores[1:top_n+1]  # Exclude the customer itself\n",
        "    return lookalikes"
      ],
      "metadata": {
        "id": "xImGf9QJS5IC"
      },
      "execution_count": 26,
      "outputs": []
    },
    {
      "cell_type": "code",
      "source": [
        "# 5. Generate Lookalike Recommendations\n",
        "lookalike_dict = {}\n",
        "for customer_id in customers_df['CustomerID'][:20]:\n",
        "    lookalikes = find_lookalikes(customer_id, cosine_sim)\n",
        "    lookalike_dict[customer_id] = [(lookalike[0], lookalike[1]) for lookalike in lookalikes]"
      ],
      "metadata": {
        "id": "3MTv0hBpS_6G"
      },
      "execution_count": 25,
      "outputs": []
    },
    {
      "cell_type": "code",
      "source": [
        "# 6. Save Results to CSV\n",
        "lookalike_df = pd.DataFrame.from_dict(lookalike_dict, orient='index')  # Remove extra columns argument\n",
        "lookalike_df.index.name = 'CustomerID'\n",
        "lookalike_df.to_csv(\"Lookalike.csv\")\n",
        "\n",
        "# Print results for the first 5 customers\n",
        "for i, customer_id in enumerate(customers_df['CustomerID'][:20]):\n",
        "    print(f\"Customer {customer_id}:\")\n",
        "    for lookalike in lookalike_dict[customer_id]:\n",
        "        print(f\"  - Lookalike: {lookalike[0]}, Similarity Score: {lookalike[1]}\")\n",
        "    print()"
      ],
      "metadata": {
        "colab": {
          "base_uri": "https://localhost:8080/"
        },
        "id": "yIl6NLiSTGon",
        "outputId": "ed6284b7-4667-4c07-f2ad-bdf4a092dd85"
      },
      "execution_count": 28,
      "outputs": [
        {
          "output_type": "stream",
          "name": "stdout",
          "text": [
            "Customer C0001:\n",
            "  - Lookalike: 96, Similarity Score: 0.5477225575051661\n",
            "  - Lookalike: 192, Similarity Score: 0.469668218313862\n",
            "  - Lookalike: 64, Similarity Score: 0.4208425284295062\n",
            "\n",
            "Customer C0002:\n",
            "  - Lookalike: 90, Similarity Score: 0.3801987652174059\n",
            "  - Lookalike: 29, Similarity Score: 0.37282185960072\n",
            "  - Lookalike: 70, Similarity Score: 0.329914439536929\n",
            "\n",
            "Customer C0003:\n",
            "  - Lookalike: 133, Similarity Score: 0.5199469468957452\n",
            "  - Lookalike: 179, Similarity Score: 0.5175973113765044\n",
            "  - Lookalike: 143, Similarity Score: 0.39999999999999997\n",
            "\n",
            "Customer C0004:\n",
            "  - Lookalike: 69, Similarity Score: 0.4525885718428285\n",
            "  - Lookalike: 131, Similarity Score: 0.3765764544157698\n",
            "  - Lookalike: 62, Similarity Score: 0.32930655646860507\n",
            "\n",
            "Customer C0005:\n",
            "  - Lookalike: 95, Similarity Score: 0.6482037235521645\n",
            "  - Lookalike: 54, Similarity Score: 0.5144957554275265\n",
            "  - Lookalike: 63, Similarity Score: 0.3328770246548891\n",
            "\n",
            "Customer C0006:\n",
            "  - Lookalike: 57, Similarity Score: 0.6488856845230502\n",
            "  - Lookalike: 39, Similarity Score: 0.5399055247990171\n",
            "  - Lookalike: 194, Similarity Score: 0.4643048000704075\n",
            "\n",
            "Customer C0007:\n",
            "  - Lookalike: 19, Similarity Score: 0.5883484054145521\n",
            "  - Lookalike: 78, Similarity Score: 0.49613893835683387\n",
            "  - Lookalike: 25, Similarity Score: 0.36313651960128146\n",
            "\n",
            "Customer C0008:\n",
            "  - Lookalike: 143, Similarity Score: 0.38933141071383004\n",
            "  - Lookalike: 164, Similarity Score: 0.31373219136960123\n",
            "  - Lookalike: 2, Similarity Score: 0.31146512857106406\n",
            "\n",
            "Customer C0009:\n",
            "  - Lookalike: 139, Similarity Score: 0.560112033611204\n",
            "  - Lookalike: 161, Similarity Score: 0.5100754759351233\n",
            "  - Lookalike: 128, Similarity Score: 0.428845013935118\n",
            "\n",
            "Customer C0010:\n",
            "  - Lookalike: 32, Similarity Score: 0.4472135954999579\n",
            "  - Lookalike: 91, Similarity Score: 0.40478449381261083\n",
            "  - Lookalike: 28, Similarity Score: 0.3921144651166975\n",
            "\n",
            "Customer C0011:\n",
            "  - Lookalike: 134, Similarity Score: 0.4841820261350419\n",
            "  - Lookalike: 119, Similarity Score: 0.3568206200700315\n",
            "  - Lookalike: 172, Similarity Score: 0.3307592922378892\n",
            "\n",
            "Customer C0012:\n",
            "  - Lookalike: 100, Similarity Score: 0.4310527248642597\n",
            "  - Lookalike: 65, Similarity Score: 0.39615005477771065\n",
            "  - Lookalike: 51, Similarity Score: 0.36706517419289875\n",
            "\n",
            "Customer C0013:\n",
            "  - Lookalike: 57, Similarity Score: 0.5039526306789696\n",
            "  - Lookalike: 39, Similarity Score: 0.41931393468876726\n",
            "  - Lookalike: 168, Similarity Score: 0.4135618075582006\n",
            "\n",
            "Customer C0014:\n",
            "  - Lookalike: 127, Similarity Score: 0.8944271909999159\n",
            "  - Lookalike: 158, Similarity Score: 0.7844645405527362\n",
            "  - Lookalike: 135, Similarity Score: 0.46188021535170054\n",
            "\n",
            "Customer C0015:\n",
            "  - Lookalike: 72, Similarity Score: 0.6324555320336758\n",
            "  - Lookalike: 35, Similarity Score: 0.6067798762169179\n",
            "  - Lookalike: 58, Similarity Score: 0.45683219257612856\n",
            "\n",
            "Customer C0016:\n",
            "  - Lookalike: 185, Similarity Score: 0.6449020216370241\n",
            "  - Lookalike: 51, Similarity Score: 0.5202659817144719\n",
            "  - Lookalike: 63, Similarity Score: 0.4611123341633879\n",
            "\n",
            "Customer C0017:\n",
            "  - Lookalike: 36, Similarity Score: 0.3988620176087328\n",
            "  - Lookalike: 70, Similarity Score: 0.38490017945975047\n",
            "  - Lookalike: 181, Similarity Score: 0.34570865256115424\n",
            "\n",
            "Customer C0018:\n",
            "  - Lookalike: 176, Similarity Score: 0.37145739524018123\n",
            "  - Lookalike: 63, Similarity Score: 0.35665425149468194\n",
            "  - Lookalike: 80, Similarity Score: 0.35032452487268534\n",
            "\n",
            "Customer C0019:\n",
            "  - Lookalike: 63, Similarity Score: 0.480577038877964\n",
            "  - Lookalike: 83, Similarity Score: 0.4652979523145872\n",
            "  - Lookalike: 38, Similarity Score: 0.45769286494404704\n",
            "\n",
            "Customer C0020:\n",
            "  - Lookalike: 25, Similarity Score: 0.6172133998483676\n",
            "  - Lookalike: 6, Similarity Score: 0.5883484054145521\n",
            "  - Lookalike: 103, Similarity Score: 0.4886777774252209\n",
            "\n"
          ]
        }
      ]
    }
  ]
}